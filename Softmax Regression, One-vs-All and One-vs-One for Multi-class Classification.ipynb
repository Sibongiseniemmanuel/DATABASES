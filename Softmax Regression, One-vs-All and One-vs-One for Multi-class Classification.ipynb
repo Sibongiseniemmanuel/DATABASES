{
 "cells": [
  {
   "cell_type": "code",
   "execution_count": 1,
   "id": "544e26e3-6032-4917-ac1e-d6cc3be48591",
   "metadata": {},
   "outputs": [
    {
     "name": "stdout",
     "output_type": "stream",
     "text": [
      "Collecting scikit-learn==1.0.2\n",
      "  Downloading scikit_learn-1.0.2-cp310-cp310-win_amd64.whl.metadata (10 kB)\n",
      "Requirement already satisfied: numpy>=1.14.6 in c:\\users\\nteny\\appdata\\local\\programs\\python\\python310\\lib\\site-packages (from scikit-learn==1.0.2) (2.1.3)\n",
      "Requirement already satisfied: scipy>=1.1.0 in c:\\users\\nteny\\appdata\\local\\programs\\python\\python310\\lib\\site-packages (from scikit-learn==1.0.2) (1.14.1)\n",
      "Requirement already satisfied: joblib>=0.11 in c:\\users\\nteny\\appdata\\local\\programs\\python\\python310\\lib\\site-packages (from scikit-learn==1.0.2) (1.4.2)\n",
      "Requirement already satisfied: threadpoolctl>=2.0.0 in c:\\users\\nteny\\appdata\\local\\programs\\python\\python310\\lib\\site-packages (from scikit-learn==1.0.2) (3.5.0)\n",
      "Downloading scikit_learn-1.0.2-cp310-cp310-win_amd64.whl (7.2 MB)\n",
      "   ---------------------------------------- 0.0/7.2 MB ? eta -:--:--\n",
      "   - -------------------------------------- 0.3/7.2 MB ? eta -:--:--\n",
      "   -- ------------------------------------- 0.5/7.2 MB 1.1 MB/s eta 0:00:06\n",
      "   -- ------------------------------------- 0.5/7.2 MB 1.1 MB/s eta 0:00:06\n",
      "   ---- ----------------------------------- 0.8/7.2 MB 1.0 MB/s eta 0:00:07\n",
      "   ----- ---------------------------------- 1.0/7.2 MB 1.0 MB/s eta 0:00:06\n",
      "   ------- -------------------------------- 1.3/7.2 MB 1.0 MB/s eta 0:00:06\n",
      "   ------- -------------------------------- 1.3/7.2 MB 1.0 MB/s eta 0:00:06\n",
      "   -------- ------------------------------- 1.6/7.2 MB 998.3 kB/s eta 0:00:06\n",
      "   ---------- ----------------------------- 1.8/7.2 MB 996.7 kB/s eta 0:00:06\n",
      "   ---------- ----------------------------- 1.8/7.2 MB 996.7 kB/s eta 0:00:06\n",
      "   ----------- ---------------------------- 2.1/7.2 MB 931.9 kB/s eta 0:00:06\n",
      "   ----------- ---------------------------- 2.1/7.2 MB 931.9 kB/s eta 0:00:06\n",
      "   ------------- -------------------------- 2.4/7.2 MB 844.3 kB/s eta 0:00:06\n",
      "   ------------- -------------------------- 2.4/7.2 MB 844.3 kB/s eta 0:00:06\n",
      "   -------------- ------------------------- 2.6/7.2 MB 853.0 kB/s eta 0:00:06\n",
      "   ---------------- ----------------------- 2.9/7.2 MB 851.7 kB/s eta 0:00:06\n",
      "   ---------------- ----------------------- 2.9/7.2 MB 851.7 kB/s eta 0:00:06\n",
      "   ----------------- ---------------------- 3.1/7.2 MB 820.1 kB/s eta 0:00:05\n",
      "   ------------------ --------------------- 3.4/7.2 MB 832.0 kB/s eta 0:00:05\n",
      "   ------------------ --------------------- 3.4/7.2 MB 832.0 kB/s eta 0:00:05\n",
      "   -------------------- ------------------- 3.7/7.2 MB 842.1 kB/s eta 0:00:05\n",
      "   --------------------- ------------------ 3.9/7.2 MB 848.0 kB/s eta 0:00:04\n",
      "   ----------------------- ---------------- 4.2/7.2 MB 853.1 kB/s eta 0:00:04\n",
      "   ----------------------- ---------------- 4.2/7.2 MB 853.1 kB/s eta 0:00:04\n",
      "   ----------------------- ---------------- 4.2/7.2 MB 853.1 kB/s eta 0:00:04\n",
      "   ------------------------ --------------- 4.5/7.2 MB 811.0 kB/s eta 0:00:04\n",
      "   ------------------------ --------------- 4.5/7.2 MB 811.0 kB/s eta 0:00:04\n",
      "   -------------------------- ------------- 4.7/7.2 MB 798.9 kB/s eta 0:00:04\n",
      "   --------------------------- ------------ 5.0/7.2 MB 803.2 kB/s eta 0:00:03\n",
      "   --------------------------- ------------ 5.0/7.2 MB 803.2 kB/s eta 0:00:03\n",
      "   --------------------------- ------------ 5.0/7.2 MB 803.2 kB/s eta 0:00:03\n",
      "   ----------------------------- ---------- 5.2/7.2 MB 787.1 kB/s eta 0:00:03\n",
      "   ----------------------------- ---------- 5.2/7.2 MB 787.1 kB/s eta 0:00:03\n",
      "   ------------------------------ --------- 5.5/7.2 MB 776.7 kB/s eta 0:00:03\n",
      "   -------------------------------- ------- 5.8/7.2 MB 777.8 kB/s eta 0:00:02\n",
      "   --------------------------------- ------ 6.0/7.2 MB 785.3 kB/s eta 0:00:02\n",
      "   --------------------------------- ------ 6.0/7.2 MB 785.3 kB/s eta 0:00:02\n",
      "   ---------------------------------- ----- 6.3/7.2 MB 792.4 kB/s eta 0:00:02\n",
      "   ------------------------------------ --- 6.6/7.2 MB 797.3 kB/s eta 0:00:01\n",
      "   ------------------------------------- -- 6.8/7.2 MB 802.0 kB/s eta 0:00:01\n",
      "   ---------------------------------------  7.1/7.2 MB 806.3 kB/s eta 0:00:01\n",
      "   ---------------------------------------- 7.2/7.2 MB 803.5 kB/s eta 0:00:00\n",
      "Installing collected packages: scikit-learn\n",
      "  Attempting uninstall: scikit-learn\n",
      "    Found existing installation: scikit-learn 1.5.2\n",
      "    Uninstalling scikit-learn-1.5.2:\n",
      "      Successfully uninstalled scikit-learn-1.5.2\n",
      "Successfully installed scikit-learn-1.0.2\n"
     ]
    },
    {
     "name": "stderr",
     "output_type": "stream",
     "text": [
      "  WARNING: Failed to remove contents in a temporary directory 'C:\\Users\\nteny\\AppData\\Local\\Programs\\Python\\Python310\\Lib\\site-packages\\~klearn'.\n",
      "  You can safely remove it manually.\n"
     ]
    }
   ],
   "source": [
    "!pip install scikit-learn==1.0.2"
   ]
  },
  {
   "cell_type": "code",
   "execution_count": 8,
   "id": "a4a44966-907c-470f-9d05-107542f6e9fa",
   "metadata": {},
   "outputs": [
    {
     "name": "stdout",
     "output_type": "stream",
     "text": [
      "Collecting scikit-learn==0.24.0\n",
      "  Using cached scikit-learn-0.24.0.tar.gz (7.4 MB)\n",
      "  Installing build dependencies: started\n",
      "  Installing build dependencies: finished with status 'error'\n"
     ]
    },
    {
     "name": "stderr",
     "output_type": "stream",
     "text": [
      "  ERROR: Error [WinError 225] Operation did not complete successfully because the file contains a virus or potentially unwanted software while executing command pip subprocess to install build dependencies\n",
      "ERROR: Could not install packages due to an OSError: [WinError 225] Operation did not complete successfully because the file contains a virus or potentially unwanted software\n",
      "\n"
     ]
    },
    {
     "ename": "ModuleNotFoundError",
     "evalue": "No module named 'sklearn'",
     "output_type": "error",
     "traceback": [
      "\u001b[1;31m---------------------------------------------------------------------------\u001b[0m",
      "\u001b[1;31mModuleNotFoundError\u001b[0m                       Traceback (most recent call last)",
      "Cell \u001b[1;32mIn[8], line 6\u001b[0m\n\u001b[0;32m      4\u001b[0m \u001b[38;5;28;01mimport\u001b[39;00m \u001b[38;5;21;01mnumpy\u001b[39;00m \u001b[38;5;28;01mas\u001b[39;00m \u001b[38;5;21;01mnp\u001b[39;00m\n\u001b[0;32m      5\u001b[0m \u001b[38;5;28;01mimport\u001b[39;00m \u001b[38;5;21;01mmatplotlib\u001b[39;00m\u001b[38;5;21;01m.\u001b[39;00m\u001b[38;5;21;01mpyplot\u001b[39;00m \u001b[38;5;28;01mas\u001b[39;00m \u001b[38;5;21;01mplt\u001b[39;00m\n\u001b[1;32m----> 6\u001b[0m \u001b[38;5;28;01mfrom\u001b[39;00m \u001b[38;5;21;01msklearn\u001b[39;00m \u001b[38;5;28;01mimport\u001b[39;00m datasets\n\u001b[0;32m      7\u001b[0m \u001b[38;5;28;01mfrom\u001b[39;00m \u001b[38;5;21;01msklearn\u001b[39;00m\u001b[38;5;21;01m.\u001b[39;00m\u001b[38;5;21;01msvm\u001b[39;00m \u001b[38;5;28;01mimport\u001b[39;00m SVC\n\u001b[0;32m      8\u001b[0m \u001b[38;5;28;01mfrom\u001b[39;00m \u001b[38;5;21;01msklearn\u001b[39;00m\u001b[38;5;21;01m.\u001b[39;00m\u001b[38;5;21;01mlinear_model\u001b[39;00m \u001b[38;5;28;01mimport\u001b[39;00m LogisticRegression\n",
      "\u001b[1;31mModuleNotFoundError\u001b[0m: No module named 'sklearn'"
     ]
    }
   ],
   "source": [
    "!pip install scikit-learn==0.24.0\n",
    "\n",
    "\n",
    "import numpy as np\n",
    "import matplotlib.pyplot as plt\n",
    "from sklearn import datasets\n",
    "from sklearn.svm import SVC\n",
    "from sklearn.linear_model import LogisticRegression\n",
    "from sklearn.metrics import accuracy_score\n",
    "import pandas as pd\n"
   ]
  },
  {
   "cell_type": "code",
   "execution_count": null,
   "id": "308767c4-9e35-47e7-9011-dd6f524133ca",
   "metadata": {},
   "outputs": [],
   "source": []
  }
 ],
 "metadata": {
  "kernelspec": {
   "display_name": "Python 3 (ipykernel)",
   "language": "python",
   "name": "python3"
  },
  "language_info": {
   "codemirror_mode": {
    "name": "ipython",
    "version": 3
   },
   "file_extension": ".py",
   "mimetype": "text/x-python",
   "name": "python",
   "nbconvert_exporter": "python",
   "pygments_lexer": "ipython3",
   "version": "3.10.7"
  }
 },
 "nbformat": 4,
 "nbformat_minor": 5
}
